{
 "cells": [
  {
   "cell_type": "code",
   "execution_count": null,
   "metadata": {},
   "outputs": [],
   "source": [
    "import os "
   ]
  },
  {
   "cell_type": "code",
   "execution_count": null,
   "metadata": {},
   "outputs": [],
   "source": [
    "cwd = os.getcwd()\n",
    "root = os.pardir\n",
    "fibre = os.path.join(cwd,root,\"Fiber 10\")\n",
    "files = os.listdir(fibre)"
   ]
  },
  {
   "cell_type": "code",
   "execution_count": null,
   "metadata": {},
   "outputs": [],
   "source": [
    "import pandas as pd "
   ]
  },
  {
   "cell_type": "code",
   "execution_count": null,
   "metadata": {},
   "outputs": [],
   "source": [
    "def slope(x_init, y_init, x_final, y_final):\n",
    "    if (x_final - x_init != 0):\n",
    "        return (y_final - y_init)/(x_final - x_init)\n",
    "    else:\n",
    "        return float('inf')\n",
    "        slopes = []\n",
    "    \n"
   ]
  },
  {
   "cell_type": "code",
   "execution_count": null,
   "metadata": {},
   "outputs": [],
   "source": [
    "def analysis(file_name):\n",
    "    file = os.path.join('..',fibre, file_name)\n",
    "    df = pd.read_excel(file)\n",
    "    experiment = df.iloc[2:,:3]\n",
    "    renaming = df.iloc[:1,:3].T.to_dict()\n",
    "    experiment.rename(columns=renaming[0])\n",
    "    consts = df.iloc[:,4:6].dropna().T.to_dict(orient=\"records\")\n",
    "    const = pd.DataFrame(columns=consts[0].values(), data=[consts[1].values()])\n",
    "    experiment.rename(columns=renaming[0],inplace=True)\n",
    "    experiment.rename(columns={\"Standard force\": 'Force'},inplace=True)\n",
    "    slopes = []\n",
    "    for i in range(len(experiment.Strain)-1):\n",
    "        slopes.append(slope(experiment.Strain.iloc[i],experiment.Force.iloc[i],\n",
    "                            experiment.Strain.iloc[i+1], experiment.Force.iloc[i+1]))\n",
    "    ratios = []\n",
    "    for index, sl in enumerate(slopes):\n",
    "        if index > 4 and index <-1:\n",
    "            ratio = abs((slopes[index+1] - sl)/sl)\n",
    "            # print(f\"{ratio} ---- {index}/{len(slopes)}\")\n",
    "            if ratio < 0.5 or ratio > 1.5:\n",
    "                ratios.append(ratio)\n",
    "            else:\n",
    "                break\n",
    "    pt_Strain = experiment.iloc[index][\"Strain\"]\n",
    "    pt_Force = experiment.iloc[index][\"Force\"]\n",
    "\n",
    "    sec_Strain = experiment.Strain.max()\n",
    "    sec_Force = experiment[experiment[\"Strain\"] == sec_Strain].Force.iloc[0]\n",
    "    return [pt_Strain, sec_Force], [sec_Strain, sec_Force]\n",
    "    # return [pt_df, sec_df]\n",
    "    "
   ]
  },
  {
   "cell_type": "code",
   "execution_count": null,
   "metadata": {},
   "outputs": [],
   "source": [
    "import numpy as np "
   ]
  },
  {
   "cell_type": "code",
   "execution_count": null,
   "metadata": {},
   "outputs": [],
   "source": [
    "def point_df(file_name, point):\n",
    "    file = os.path.join(\"..\",fibre,file_name)\n",
    "    df = pd.read_excel(file)\n",
    "    experiment = df.iloc[2:,:3]\n",
    "    renaming = df.iloc[:1,:3].T.to_dict()\n",
    "    experiment.rename(columns=renaming[0],inplace=True)\n",
    "    print(point[0])\n",
    "    data = experiment[experiment['Strain'] == point[0]]\n",
    "    constants = df.iloc[:,4:].dropna()\n",
    "    constants = constants.to_dict(orient=\"split\",index=False)['data']\n",
    "    const_dict = {const[0]:const[1] for const in constants}\n",
    "    const_df = pd.DataFrame(columns=const_dict,data=[const_dict.values()])\n",
    "    const_df['temp'] = np.ones(len(const_df))\n",
    "    data['temp'] =np.ones(len(data))\n",
    "    print(data.head(1))\n",
    "    return pd.merge(data,const_df)\n",
    "    # return experiment"
   ]
  },
  {
   "cell_type": "code",
   "execution_count": null,
   "metadata": {},
   "outputs": [],
   "source": [
    "second_point = pd.DataFrame(columns=test.columns)\n"
   ]
  },
  {
   "cell_type": "code",
   "execution_count": null,
   "metadata": {},
   "outputs": [],
   "source": [
    "second_point"
   ]
  },
  {
   "cell_type": "code",
   "execution_count": null,
   "metadata": {},
   "outputs": [],
   "source": [
    "for fibres in os.listdir(os.path.join(root, 'data')):\n",
    "    fibre = os.path.join('data',fibres)\n",
    "    \n",
    "    for file in os.listdir(os.path.join(cwd,'..',fibre)):\n",
    "        # print(os.path.join(\"..\",fibre,file))\n",
    "        second_point = pd.concat([second_point,point_df(file, analysis(file)[0])])"
   ]
  },
  {
   "cell_type": "code",
   "execution_count": null,
   "metadata": {},
   "outputs": [],
   "source": [
    "second_point.to_csv(\"../first_point.csv\")"
   ]
  },
  {
   "cell_type": "markdown",
   "metadata": {},
   "source": [
    "MODEL TRAINING"
   ]
  },
  {
   "cell_type": "code",
   "execution_count": 1,
   "metadata": {},
   "outputs": [],
   "source": [
    "#reading data\n",
    "import pandas as pd \n",
    "import numpy as np \n"
   ]
  },
  {
   "cell_type": "code",
   "execution_count": 3,
   "metadata": {},
   "outputs": [],
   "source": [
    "df = pd.read_csv(\"../first_point.csv\")"
   ]
  },
  {
   "cell_type": "code",
   "execution_count": 12,
   "metadata": {},
   "outputs": [],
   "source": [
    "X= df.iloc[:,[2,6,9]]"
   ]
  },
  {
   "cell_type": "code",
   "execution_count": null,
   "metadata": {},
   "outputs": [],
   "source": [
    "from sklearn.svm import SVR "
   ]
  },
  {
   "cell_type": "code",
   "execution_count": null,
   "metadata": {},
   "outputs": [],
   "source": [
    "svr = SVR(kernel='linear') "
   ]
  },
  {
   "cell_type": "code",
   "execution_count": null,
   "metadata": {},
   "outputs": [],
   "source": []
  }
 ],
 "metadata": {
  "kernelspec": {
   "display_name": ".venv",
   "language": "python",
   "name": "python3"
  },
  "language_info": {
   "codemirror_mode": {
    "name": "ipython",
    "version": 3
   },
   "file_extension": ".py",
   "mimetype": "text/x-python",
   "name": "python",
   "nbconvert_exporter": "python",
   "pygments_lexer": "ipython3",
   "version": "3.12.3"
  }
 },
 "nbformat": 4,
 "nbformat_minor": 2
}
